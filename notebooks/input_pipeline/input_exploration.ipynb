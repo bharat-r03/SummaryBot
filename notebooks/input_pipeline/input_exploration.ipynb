{
 "cells": [
  {
   "cell_type": "code",
   "execution_count": 36,
   "id": "e9b8066e",
   "metadata": {},
   "outputs": [],
   "source": [
    "import win32com.client"
   ]
  },
  {
   "cell_type": "markdown",
   "id": "f2354c4a",
   "metadata": {},
   "source": [
    "# TODO\n",
    "* Figure out how to integrate Gmail\n",
    "* Transform email objects into a format that can be fed into an LLM for summarization\n",
    "* Figure out how to download attachments using email integration tools"
   ]
  },
  {
   "cell_type": "markdown",
   "id": "b6323230",
   "metadata": {},
   "source": [
    "## Gmail Integration"
   ]
  },
  {
   "cell_type": "code",
   "execution_count": null,
   "id": "95c727f8",
   "metadata": {},
   "outputs": [],
   "source": []
  },
  {
   "cell_type": "markdown",
   "id": "507e4b5a",
   "metadata": {},
   "source": [
    "## Outlook App Integration\n",
    "\n",
    "For some reason, must be local if you don't want to deal with API keys and all that nonsense. Also requires **Outlook Classic**, not just the Outlook 365 app that is pre-installed with most Windows machines. Not known if this works on Linux/Mac as well."
   ]
  },
  {
   "cell_type": "code",
   "execution_count": 45,
   "id": "5584940e",
   "metadata": {},
   "outputs": [
    {
     "data": {
      "text/plain": [
       "<COMObject GetNamespace>"
      ]
     },
     "execution_count": 45,
     "metadata": {},
     "output_type": "execute_result"
    }
   ],
   "source": [
    "outlook = win32com.client.Dispatch(\"Outlook.Application\").GetNamespace(\"MAPI\")\n",
    "outlook"
   ]
  },
  {
   "cell_type": "code",
   "execution_count": 46,
   "id": "30ab3e50",
   "metadata": {},
   "outputs": [],
   "source": [
    "inbox = outlook.GetDefaultFolder(6)"
   ]
  },
  {
   "cell_type": "code",
   "execution_count": 47,
   "id": "495c47ef",
   "metadata": {},
   "outputs": [],
   "source": [
    "messages = inbox.Items"
   ]
  },
  {
   "cell_type": "code",
   "execution_count": 48,
   "id": "ec563813",
   "metadata": {},
   "outputs": [
    {
     "name": "stdout",
     "output_type": "stream",
     "text": [
      "Subject:     Test     Date :  2025-06-17 16:03:33+00:00\n",
      "Subject:     $30 Ticket to Summer - More Tickets Added!     Date :  2025-06-17 15:49:06+00:00\n",
      "Subject:     Get the Apple devices you love for less. Shop the Apple Trade-Up Event.     Date :  2025-06-14 19:30:21+00:00\n",
      "Subject:     Don’t miss this bonus 🚨     Date :  2025-06-14 17:02:51+00:00\n",
      "Subject:     adidas Originals x Liberty London​: Road-ready florals     Date :  2025-06-14 13:22:51+00:00\n",
      "Subject:     Hey bharat.raghavan03.user, unwrap your gift     Date :  2025-06-14 13:14:28+00:00\n",
      "Subject:     Celebrate a Braves win with 40% off any menu price pizza     Date :  2025-06-14 12:09:49+00:00\n",
      "Subject:     Coming to Washington DC: Beyonce, Kendrick Lamar, The Weeknd and more!     Date :  2025-06-14 11:38:43+00:00\n",
      "Subject:     12 outside-the-box All-Star candidates     Date :  2025-06-14 10:33:18+00:00\n",
      "Subject:     Don't forget the FREE 8x10 print for Dad!     Date :  2025-06-14 10:24:30+00:00\n",
      "Subject:     Your Edfinancial Services Statement is now available     Date :  2025-06-14 10:16:25+00:00\n",
      "Subject:     New Moe Value Meal is here!     Date :  2025-06-14 10:01:40+00:00\n",
      "Subject:     You appeared in 21 searches     Date :  2025-06-14 09:33:47+00:00\n",
      "Subject:     Yep, that’s included too     Date :  2025-06-14 09:12:17+00:00\n",
      "Subject:     Target signs of aging with these beauty drops     Date :  2025-06-14 09:02:32+00:00\n",
      "Subject:     Up to $600 off packages. Hello, summer. 😎👋     Date :  2025-06-14 08:36:12+00:00\n",
      "Subject:     Bharat's June Update: Make It a Summer of Adventure     Date :  2025-06-14 07:02:31+00:00\n",
      "Subject:     Nice work, Bharat! Here's a lower promo APR for being a loyal cardmember     Date :  2025-06-14 06:24:07+00:00\n",
      "Subject:     Free gifts for you, bharat.raghavan03.user     Date :  2025-06-14 01:22:56+00:00\n",
      "Subject:     ATL UTD Pub Crawl     Date :  2025-06-13 19:07:33+00:00\n",
      "Subject:     Customize your sunglasses     Date :  2025-06-13 17:02:17+00:00\n",
      "Subject:     Fans travel worry-free with Amtrak Flex Fares!     Date :  2025-06-13 17:02:06+00:00\n",
      "Subject:     Enjoy Freebie Fridays at Jersey Mike's and more     Date :  2025-06-13 15:29:21+00:00\n",
      "Subject:     Youth Soccer Program SALE     Date :  2025-06-13 15:12:34+00:00\n",
      "Subject:     New single from Kane Brown     Date :  2025-06-13 15:06:43+00:00\n",
      "Subject:     Live your big league dream at Nationals Fantasy Camp!     Date :  2025-06-13 14:09:38+00:00\n",
      "Subject:     Hi, Bharat! You've got a Rapid Rewards account statement.     Date :  2025-06-13 13:26:57+00:00\n",
      "Subject:     Message replied: Job opportunity at Govini     Date :  2025-06-13 13:23:01+00:00\n",
      "Subject:     Message replied: Job opportunity at Govini     Date :  2025-06-13 13:20:21+00:00\n",
      "Subject:     Message replied: Job opportunity at Govini     Date :  2025-06-13 13:11:49+00:00\n",
      "Subject:     Sport inspired, street ready     Date :  2025-06-13 13:10:02+00:00\n",
      "Subject:     Meet the Anthem Jacket     Date :  2025-06-13 12:37:14+00:00\n",
      "Subject:     Message replied: Job opportunity at Govini     Date :  2025-06-13 12:13:53+00:00\n",
      "Subject:     Falcons Friday: Open Practice Dates     Date :  2025-06-13 12:03:02+00:00\n",
      "Subject:     Bharat, your May account statement is available.     Date :  2025-06-13 12:01:49+00:00\n",
      "Subject:     Updated: UNC Student Send-Off, Juneteenth Happy Hour and More     Date :  2025-06-13 10:43:50+00:00\n",
      "Subject:     Get Up to 20% Off Automotive Services     Date :  2025-06-13 10:02:49+00:00\n",
      "Subject:     Last minute Father's Day gift card deal.     Date :  2025-06-13 10:01:07+00:00\n",
      "Subject:     Scratch to reveal this FREE Father's Day offer!     Date :  2025-06-13 09:58:44+00:00\n",
      "Subject:     This Weekend: NBA Finals Game 4 & More 🏀     Date :  2025-06-13 09:11:51+00:00\n",
      "Subject:     Could this team spice up the Trade Deadline?     Date :  2025-06-13 08:39:00+00:00\n",
      "Subject:     On sale: this week's hottest Motorcycle Merchandise, Racing Clothing & Accessories, Surfing     Date :  2025-06-13 00:59:58+00:00\n",
      "Subject:     Jonah Trani reacted to this post: Imagine my absolute surprise…     Date :  2025-06-12 20:17:24+00:00\n",
      "Subject:     Leon Thomas, Bop To The Top, and More Coming Soon!     Date :  2025-06-12 19:46:49+00:00\n",
      "Subject:     Now Arriving: Your June Statement     Date :  2025-06-12 19:18:59+00:00\n",
      "Subject:     D.C. Heels: UNC Student Send-Off, Juneteenth Happy Hour and More     Date :  2025-06-12 19:00:52+00:00\n",
      "Subject:     Savings at Santini's New York Style Deli and more!     Date :  2025-06-12 18:52:13+00:00\n",
      "Subject:     Youth Program SALE​     Date :  2025-06-12 18:02:34+00:00\n",
      "Subject:     Unlocking the benefits: How Safe Soccer Clearance works     Date :  2025-06-12 17:51:00+00:00\n",
      "Subject:     Job opportunity at Govini     Date :  2025-06-12 17:32:33+00:00\n",
      "Subject:     Simon (& Schuster) says…     Date :  2025-06-12 17:06:28+00:00\n",
      "Subject:     Bharat, thanks for being a valued member     Date :  2025-06-12 16:56:37+00:00\n",
      "Subject:     Here's your weekly account snapshot     Date :  2025-06-12 16:29:25+00:00\n",
      "Subject:     3 visits 🏃 1 big bonus 🎁     Date :  2025-06-12 16:23:25+00:00\n",
      "Subject:     Bharat, your new Amex Offers are inside!     Date :  2025-06-12 16:08:28+00:00\n",
      "Subject:     AT&T Training Camp Dates Announced      Date :  2025-06-12 15:45:09+00:00\n",
      "Subject:     Make game nights even more memorable with Xbox Series S     Date :  2025-06-12 14:56:42+00:00\n",
      "Subject:     Run City of Oaks or Every Women's Marathon! 🏃‍♀️💗     Date :  2025-06-12 14:42:34+00:00\n",
      "Subject:     Tune In | ATL UTD vs NYCFC     Date :  2025-06-12 14:32:34+00:00\n",
      "Subject:     How’s 60% off an order sound?     Date :  2025-06-12 14:16:34+00:00\n",
      "Subject:     Take Dad out to a Nats game for Father’s Day!     Date :  2025-06-12 14:04:14+00:00\n",
      "Subject:     🎟️ Concert Update – 6.12.25 🎟️     Date :  2025-06-12 13:30:30+00:00\n",
      "Subject:     The reemergence of a classic     Date :  2025-06-12 13:27:58+00:00\n",
      "Subject:     New bubbles of pearls. 🫧     Date :  2025-06-12 13:13:41+00:00\n",
      "Subject:     New Tour 🚨 TWENTY ONE PILOTS     Date :  2025-06-12 13:04:11+00:00\n",
      "Subject:     Father's Day Gift Ideas     Date :  2025-06-12 13:01:36+00:00\n",
      "Subject:     Prices for The Weeknd with Playboi Carti And Mike Dean dropped     Date :  2025-06-12 12:40:26+00:00\n",
      "Subject:     Buy One Get One select Vitamins to keep your summer fun and healthy     Date :  2025-06-12 12:35:35+00:00\n",
      "Subject:     How to cut your biggest expenses     Date :  2025-06-12 12:20:30+00:00\n",
      "Subject:     RE: BCG X | Data Scientist, United States - BCG X Interview  Confirmation     Date :  2025-06-12 10:46:53+00:00\n",
      "Subject:     Celebrate a Braves win with 40% off any menu price pizza     Date :  2025-06-12 10:02:41+00:00\n",
      "Subject:     26.2 miles in the ballpark? He really did it     Date :  2025-06-12 09:46:28+00:00\n",
      "Subject:     FINAL DAY: $49 sale fares for summer travel and beyond.     Date :  2025-06-12 09:42:21+00:00\n",
      "Subject:     This beauty won’t break the bank 💰     Date :  2025-06-12 09:09:06+00:00\n",
      "Subject:     Your iCloud storage is full.     Date :  2025-06-12 08:38:13+00:00\n",
      "Subject:     You appeared in 21 searches     Date :  2025-06-12 08:26:28+00:00\n",
      "Subject:     $79 one-way sale fares from Washington, DC end in hours. Summer starts in days.     Date :  2025-06-12 08:08:08+00:00\n",
      "Subject:     JUST LANDED: new items with high ratings     Date :  2025-06-12 01:58:12+00:00\n",
      "Subject:     Bharat, add Tatiana Q. Hernandez - Lead Machine Learning Engineer, Associate     Date :  2025-06-12 01:32:38+00:00\n",
      "Subject:     [GitHub] A first-party GitHub OAuth application has been added to your account     Date :  2025-06-11 21:54:59+00:00\n",
      "Subject:     Last chance: Up to 40% off on essentials, beauty, and more.     Date :  2025-06-11 18:12:52+00:00\n",
      "Subject:     Nationals vs Marlins     Date :  2025-06-11 18:06:11+00:00\n",
      "Subject:     Atlantic Collegiate Alliance of Taekwondo Association paid you $10.72     Date :  2025-06-11 17:57:57+00:00\n",
      "Subject:     Presale for Emo Nite Starts Tomorrow!     Date :  2025-06-11 17:23:06+00:00\n",
      "Subject:     Bharat, your profile is getting hits     Date :  2025-06-11 16:33:00+00:00\n",
      "Subject:     We have to thank you     Date :  2025-06-11 17:05:54+00:00\n",
      "Subject:     Reminder: Bharat, stop missing out on 5% cash back, activate now     Date :  2025-06-11 16:40:26+00:00\n",
      "Subject:     $30 Tickets for Dad - Happy Father's Day!     Date :  2025-06-11 16:21:41+00:00\n",
      "Subject:     SmarTrip card web account - Order Receipt     Date :  2025-06-11 16:01:54+00:00\n",
      "Subject:     New reasons prevent pages from being indexed on site acatatkd.org     Date :  2025-06-11 15:57:17+00:00\n",
      "Subject:     Your Upcoming Concert Lineup: A Day To Remember, Say Anything, Bring Me The Horizon     Date :  2025-06-11 15:15:14+00:00\n",
      "Subject:     Officials on the State of Sportsmanship in High School Sports     Date :  2025-06-11 15:00:22+00:00\n",
      "Subject:     From Visual Health-Arlington/Clarendon- Up to $300 Rebate + $100 New Wearer Bonus on ACUVUE® Daily Lenses!     Date :  2025-06-11 13:55:57+00:00\n",
      "Subject:     Need a refresh? 😎     Date :  2025-06-11 13:54:22+00:00\n",
      "Subject:     Save lives and win big June 27th & June 28th!     Date :  2025-06-11 13:25:56+00:00\n",
      "Subject:     These summer savings won't last forever     Date :  2025-06-11 13:20:41+00:00\n",
      "Subject:     Google Search staff offered buyouts     Date :  2025-06-11 13:09:23+00:00\n",
      "Subject:     Alumni news: Meet the alumni behind the Shibumi Shade and Pup Park Shuttle     Date :  2025-06-11 12:01:54+00:00\n",
      "Subject:     Take Dad out to the ballgame     Date :  2025-06-11 11:41:37+00:00\n",
      "Subject:     15% OFF everything you need for Father’s Day on $35+     Date :  2025-06-11 11:32:16+00:00\n",
      "Subject:     Hamilton fans: enter our design contest!     Date :  2025-06-11 11:16:30+00:00\n"
     ]
    }
   ],
   "source": [
    "msg = messages.GetLast()\n",
    "counter = 0\n",
    "\n",
    "while msg:\n",
    "    date = msg.SentOn\n",
    "    sjl = msg.Subject                    \n",
    "    print(\"Subject:     \" + sjl + \"     Date : \", date) \n",
    "    msg = messages.GetPrevious()\n",
    "\n",
    "    counter += 1\n",
    "    if counter > 100:\n",
    "        break"
   ]
  },
  {
   "cell_type": "code",
   "execution_count": null,
   "id": "c4895647",
   "metadata": {},
   "outputs": [],
   "source": []
  },
  {
   "cell_type": "code",
   "execution_count": null,
   "id": "5dea14c3",
   "metadata": {},
   "outputs": [],
   "source": []
  }
 ],
 "metadata": {
  "kernelspec": {
   "display_name": "sb_venv",
   "language": "python",
   "name": "python3"
  },
  "language_info": {
   "codemirror_mode": {
    "name": "ipython",
    "version": 3
   },
   "file_extension": ".py",
   "mimetype": "text/x-python",
   "name": "python",
   "nbconvert_exporter": "python",
   "pygments_lexer": "ipython3",
   "version": "3.11.9"
  }
 },
 "nbformat": 4,
 "nbformat_minor": 5
}
