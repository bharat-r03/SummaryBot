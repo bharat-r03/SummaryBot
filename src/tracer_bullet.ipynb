{
 "cells": [
  {
   "cell_type": "code",
   "execution_count": 2,
   "id": "01414296",
   "metadata": {},
   "outputs": [],
   "source": [
    "import pymupdf\n",
    "from ollama import pull, generate\n",
    "import math\n",
    "import glob\n",
    "from kokoro import KPipeline\n",
    "from IPython.display import display, Audio\n",
    "import torch"
   ]
  },
  {
   "cell_type": "code",
   "execution_count": 7,
   "id": "6f2b4fdb",
   "metadata": {},
   "outputs": [],
   "source": [
    "def process_pdf(input_path: str) -> list[str]:\n",
    "    try:\n",
    "        with pymupdf.open(input_path) as pdf:\n",
    "            text_by_page = [page.get_text() for page in pdf]\n",
    "\n",
    "    except Exception as e:\n",
    "        raise Exception(f\"PDF file processing failed. Please ensure that the file path is correct and that the file is not corrupted. Full Error: {e}\")\n",
    "    \n",
    "    return text_by_page\n",
    "\n",
    "def chunk_input(input: list, n_chunks: int = 5) -> list[list]:\n",
    "    chunked_inputs = []\n",
    "\n",
    "    for idx in range(math.ceil(len(input) / n_chunks)):\n",
    "        start, end = idx * n_chunks, (idx+1) * n_chunks\n",
    "        chunked_inputs.append(input[start:end])\n",
    "\n",
    "    return chunked_inputs"
   ]
  },
  {
   "cell_type": "code",
   "execution_count": null,
   "id": "615fb288",
   "metadata": {},
   "outputs": [],
   "source": []
  }
 ],
 "metadata": {
  "kernelspec": {
   "display_name": "sb_venv",
   "language": "python",
   "name": "python3"
  },
  "language_info": {
   "codemirror_mode": {
    "name": "ipython",
    "version": 3
   },
   "file_extension": ".py",
   "mimetype": "text/x-python",
   "name": "python",
   "nbconvert_exporter": "python",
   "pygments_lexer": "ipython3",
   "version": "3.11.9"
  }
 },
 "nbformat": 4,
 "nbformat_minor": 5
}
